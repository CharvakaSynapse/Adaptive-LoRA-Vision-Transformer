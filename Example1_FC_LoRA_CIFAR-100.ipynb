{
 "cells": [
  {
   "cell_type": "markdown",
   "id": "fd11bd41-7652-4b5f-a65e-846903547c45",
   "metadata": {},
   "source": [
    "# Attention only FC-LoRA Cifar-100"
   ]
  },
  {
   "cell_type": "code",
   "execution_count": 2,
   "id": "48c1b14b-4cdf-4755-82d0-c7df7c19bee9",
   "metadata": {},
   "outputs": [
    {
     "name": "stdout",
     "output_type": "stream",
     "text": [
      "Files already downloaded and verified\n",
      "Files already downloaded and verified\n"
     ]
    },
    {
     "name": "stderr",
     "output_type": "stream",
     "text": [
      "Some weights of DeiTForImageClassification were not initialized from the model checkpoint at facebook/deit-base-distilled-patch16-224 and are newly initialized: ['classifier.bias', 'classifier.weight']\n",
      "You should probably TRAIN this model on a down-stream task to be able to use it for predictions and inference.\n",
      "                                                                      \r"
     ]
    },
    {
     "name": "stdout",
     "output_type": "stream",
     "text": [
      "\n",
      "Adaptive Ranks (Attention Only): {'deit.encoder.layer.0.attention.attention.value': 16, 'deit.encoder.layer.11.attention.attention.value': 16, 'deit.encoder.layer.9.attention.attention.value': 16, 'deit.encoder.layer.8.attention.attention.value': 16, 'deit.encoder.layer.4.attention.attention.value': 16, 'deit.encoder.layer.10.attention.attention.value': 16, 'deit.encoder.layer.3.attention.attention.value': 4, 'deit.encoder.layer.7.attention.attention.value': 1, 'deit.encoder.layer.6.attention.attention.value': 1, 'deit.encoder.layer.5.attention.attention.value': 1, 'deit.encoder.layer.2.attention.attention.value': 1, 'deit.encoder.layer.1.attention.attention.value': 1, 'deit.encoder.layer.9.attention.attention.query': 1, 'deit.encoder.layer.8.attention.attention.query': 1, 'deit.encoder.layer.7.attention.attention.query': 1, 'deit.encoder.layer.3.attention.attention.key': 1, 'deit.encoder.layer.5.attention.attention.query': 1, 'deit.encoder.layer.6.attention.attention.query': 1, 'deit.encoder.layer.4.attention.attention.key': 1, 'deit.encoder.layer.5.attention.attention.key': 1, 'deit.encoder.layer.3.attention.attention.query': 1, 'deit.encoder.layer.9.attention.attention.key': 1, 'deit.encoder.layer.10.attention.attention.query': 1, 'deit.encoder.layer.4.attention.attention.query': 1, 'deit.encoder.layer.6.attention.attention.key': 1, 'deit.encoder.layer.8.attention.attention.key': 1, 'deit.encoder.layer.7.attention.attention.key': 1, 'deit.encoder.layer.10.attention.attention.key': 1, 'deit.encoder.layer.2.attention.attention.key': 1, 'deit.encoder.layer.2.attention.attention.query': 1, 'deit.encoder.layer.11.attention.attention.query': 1, 'deit.encoder.layer.11.attention.attention.key': 1, 'deit.encoder.layer.1.attention.attention.query': 1, 'deit.encoder.layer.0.attention.attention.query': 1, 'deit.encoder.layer.1.attention.attention.key': 1, 'deit.encoder.layer.0.attention.attention.key': 1}\n",
      "\n",
      "Final trainable model structure:\n",
      "trainable params: 198,144 || all params: 86,075,236 || trainable%: 0.2302\n"
     ]
    },
    {
     "name": "stderr",
     "output_type": "stream",
     "text": [
      "Epoch 1/15: 100%|██████████| 1250/1250 [02:40<00:00,  7.81it/s, Loss=1.3949]\n"
     ]
    },
    {
     "name": "stdout",
     "output_type": "stream",
     "text": [
      "Epoch 1: New best model saved with Val Accuracy: 81.78%\n",
      "Epoch 1: Train Loss: 2.5448, Val Loss: 1.3646, Train Acc: 54.46%, Val Acc: 81.78%\n"
     ]
    },
    {
     "name": "stderr",
     "output_type": "stream",
     "text": [
      "Epoch 2/15: 100%|██████████| 1250/1250 [02:39<00:00,  7.82it/s, Loss=1.1472]\n"
     ]
    },
    {
     "name": "stdout",
     "output_type": "stream",
     "text": [
      "Epoch 2: New best model saved with Val Accuracy: 85.41%\n",
      "Epoch 2: Train Loss: 1.7690, Val Loss: 1.2306, Train Acc: 70.70%, Val Acc: 85.41%\n"
     ]
    },
    {
     "name": "stderr",
     "output_type": "stream",
     "text": [
      "Epoch 3/15: 100%|██████████| 1250/1250 [02:39<00:00,  7.81it/s, Loss=1.1179]\n"
     ]
    },
    {
     "name": "stdout",
     "output_type": "stream",
     "text": [
      "Epoch 3: New best model saved with Val Accuracy: 86.92%\n",
      "Epoch 3: Train Loss: 1.6279, Val Loss: 1.1887, Train Acc: 75.72%, Val Acc: 86.92%\n"
     ]
    },
    {
     "name": "stderr",
     "output_type": "stream",
     "text": [
      "Epoch 4/15: 100%|██████████| 1250/1250 [02:39<00:00,  7.83it/s, Loss=1.3021]\n"
     ]
    },
    {
     "name": "stdout",
     "output_type": "stream",
     "text": [
      "Epoch 4: New best model saved with Val Accuracy: 87.48%\n",
      "Epoch 4: Train Loss: 1.5484, Val Loss: 1.1699, Train Acc: 76.92%, Val Acc: 87.48%\n"
     ]
    },
    {
     "name": "stderr",
     "output_type": "stream",
     "text": [
      "Epoch 5/15: 100%|██████████| 1250/1250 [02:39<00:00,  7.83it/s, Loss=1.8479]\n"
     ]
    },
    {
     "name": "stdout",
     "output_type": "stream",
     "text": [
      "Epoch 5: Test Loss: 1.1683, Test Accuracy: 87.67%\n",
      "Epoch 5: New best model saved with Val Accuracy: 87.85%\n",
      "Epoch 5: Train Loss: 1.5359, Val Loss: 1.1583, Train Acc: 76.84%, Val Acc: 87.85%\n"
     ]
    },
    {
     "name": "stderr",
     "output_type": "stream",
     "text": [
      "Epoch 6/15: 100%|██████████| 1250/1250 [02:40<00:00,  7.80it/s, Loss=0.9426]\n"
     ]
    },
    {
     "name": "stdout",
     "output_type": "stream",
     "text": [
      "Epoch 6: New best model saved with Val Accuracy: 88.62%\n",
      "Epoch 6: Train Loss: 1.4945, Val Loss: 1.1408, Train Acc: 78.06%, Val Acc: 88.62%\n"
     ]
    },
    {
     "name": "stderr",
     "output_type": "stream",
     "text": [
      "Epoch 7/15: 100%|██████████| 1250/1250 [02:40<00:00,  7.80it/s, Loss=1.0584]\n"
     ]
    },
    {
     "name": "stdout",
     "output_type": "stream",
     "text": [
      "Epoch 7: New best model saved with Val Accuracy: 89.24%\n",
      "Epoch 7: Train Loss: 1.4539, Val Loss: 1.1348, Train Acc: 80.16%, Val Acc: 89.24%\n"
     ]
    },
    {
     "name": "stderr",
     "output_type": "stream",
     "text": [
      "Epoch 8/15: 100%|██████████| 1250/1250 [02:40<00:00,  7.81it/s, Loss=1.5910]\n"
     ]
    },
    {
     "name": "stdout",
     "output_type": "stream",
     "text": [
      "Epoch 8: New best model saved with Val Accuracy: 89.41%\n",
      "Epoch 8: Train Loss: 1.4338, Val Loss: 1.1198, Train Acc: 82.03%, Val Acc: 89.41%\n"
     ]
    },
    {
     "name": "stderr",
     "output_type": "stream",
     "text": [
      "Epoch 9/15: 100%|██████████| 1250/1250 [02:38<00:00,  7.88it/s, Loss=0.9163]\n"
     ]
    },
    {
     "name": "stdout",
     "output_type": "stream",
     "text": [
      "Epoch 9: New best model saved with Val Accuracy: 89.57%\n",
      "Epoch 9: Train Loss: 1.3901, Val Loss: 1.1211, Train Acc: 82.20%, Val Acc: 89.57%\n"
     ]
    },
    {
     "name": "stderr",
     "output_type": "stream",
     "text": [
      "Epoch 10/15: 100%|██████████| 1250/1250 [02:38<00:00,  7.90it/s, Loss=0.8910]\n"
     ]
    },
    {
     "name": "stdout",
     "output_type": "stream",
     "text": [
      "Epoch 10: Test Loss: 1.1344, Test Accuracy: 89.01%\n",
      "Epoch 10: New best model saved with Val Accuracy: 89.75%\n",
      "Epoch 10: Train Loss: 1.3707, Val Loss: 1.1189, Train Acc: 83.08%, Val Acc: 89.75%\n"
     ]
    },
    {
     "name": "stderr",
     "output_type": "stream",
     "text": [
      "Epoch 11/15: 100%|██████████| 1250/1250 [02:39<00:00,  7.83it/s, Loss=1.0707]\n"
     ]
    },
    {
     "name": "stdout",
     "output_type": "stream",
     "text": [
      "Epoch 11: New best model saved with Val Accuracy: 89.84%\n",
      "Epoch 11: Train Loss: 1.3743, Val Loss: 1.1183, Train Acc: 83.44%, Val Acc: 89.84%\n"
     ]
    },
    {
     "name": "stderr",
     "output_type": "stream",
     "text": [
      "Epoch 12/15: 100%|██████████| 1250/1250 [02:39<00:00,  7.82it/s, Loss=2.0098]\n"
     ]
    },
    {
     "name": "stdout",
     "output_type": "stream",
     "text": [
      "Epoch 12: Train Loss: 1.3553, Val Loss: 1.1176, Train Acc: 83.68%, Val Acc: 89.75%\n"
     ]
    },
    {
     "name": "stderr",
     "output_type": "stream",
     "text": [
      "Epoch 13/15: 100%|██████████| 1250/1250 [02:37<00:00,  7.92it/s, Loss=2.2069]\n"
     ]
    },
    {
     "name": "stdout",
     "output_type": "stream",
     "text": [
      "Epoch 13: Train Loss: 1.3275, Val Loss: 1.1178, Train Acc: 84.87%, Val Acc: 89.73%\n"
     ]
    },
    {
     "name": "stderr",
     "output_type": "stream",
     "text": [
      "Epoch 14/15: 100%|██████████| 1250/1250 [02:36<00:00,  7.99it/s, Loss=0.8883]\n"
     ]
    },
    {
     "name": "stdout",
     "output_type": "stream",
     "text": [
      "Epoch 14: Train Loss: 1.3095, Val Loss: 1.1143, Train Acc: 85.83%, Val Acc: 89.78%\n"
     ]
    },
    {
     "name": "stderr",
     "output_type": "stream",
     "text": [
      "Epoch 15/15: 100%|██████████| 1250/1250 [02:36<00:00,  7.97it/s, Loss=1.8669]\n"
     ]
    },
    {
     "name": "stdout",
     "output_type": "stream",
     "text": [
      "Epoch 15: Test Loss: 1.1284, Test Accuracy: 89.19%\n",
      "Epoch 15: New best model saved with Val Accuracy: 89.97%\n",
      "Epoch 15: Train Loss: 1.3260, Val Loss: 1.1146, Train Acc: 84.63%, Val Acc: 89.97%\n"
     ]
    },
    {
     "name": "stderr",
     "output_type": "stream",
     "text": [
      "Some weights of DeiTForImageClassification were not initialized from the model checkpoint at facebook/deit-base-distilled-patch16-224 and are newly initialized: ['classifier.bias', 'classifier.weight']\n",
      "You should probably TRAIN this model on a down-stream task to be able to use it for predictions and inference.\n"
     ]
    },
    {
     "name": "stdout",
     "output_type": "stream",
     "text": [
      "Best Model (Epoch 15): Test Loss: 1.1284, Test Accuracy: 89.19%\n",
      "ECE: 0.0920, Scaled ECE: 0.0146, Scaled Test Accuracy: 89.19%\n",
      "Class-wise Accuracy: Mean 0.89, Std 0.08\n",
      "Total training time: 2862.12 seconds\n"
     ]
    }
   ],
   "source": [
    "import torch\n",
    "import time\n",
    "import numpy as np\n",
    "import json\n",
    "from data_utils import *\n",
    "from model_utils import *\n",
    "from train_utils import *\n",
    "from eval_utils import *\n",
    "\n",
    "def main():\n",
    "    # Load configuration\n",
    "    with open('config.json', 'r') as f:\n",
    "        config = json.load(f)\n",
    "    \n",
    "    start = time.time()\n",
    "    np.random.seed(config['seed'])\n",
    "    torch.manual_seed(config['seed'])\n",
    "\n",
    "    # Data\n",
    "    train_loader, val_loader, test_loader = get_data_loaders(config)\n",
    "\n",
    "    # Model\n",
    "    device = torch.device(\"cuda\" if torch.cuda.is_available() else \"cpu\")\n",
    "    model = initialize_model(device, config)\n",
    "\n",
    "    # Adaptive LoRA ranks\n",
    "    adaptive_ranks = compute_adaptive_ranks(model, train_loader, device, config)\n",
    "\n",
    "    # Apply LoRA\n",
    "    model = apply_lora(model, adaptive_ranks, device, config)\n",
    "\n",
    "    # Set trainable parameters\n",
    "    set_trainable_parameters(model)\n",
    "\n",
    "    # Train\n",
    "    best_model_path = config['paths']['best_model']\n",
    "    train_losses, val_losses, train_accuracies, val_accuracies, best_epoch = train_model(\n",
    "        model, train_loader, val_loader, test_loader, device, best_model_path, config\n",
    "    )\n",
    "\n",
    "    # Evaluate\n",
    "    metrics = evaluate_model(model, test_loader, val_loader, device, best_model_path, adaptive_ranks)\n",
    "    \n",
    "    # Plot\n",
    "    plot_metrics(train_losses, val_losses, train_accuracies, val_accuracies, config)\n",
    "\n",
    "    # Print final results\n",
    "    print(f\"Best Model (Epoch {best_epoch}): Test Loss: {metrics['test_loss']:.4f}, \"\n",
    "          f\"Test Accuracy: {metrics['test_accuracy']:.2f}%\")\n",
    "    print(f\"ECE: {metrics['ece']:.4f}, Scaled ECE: {metrics['scaled_ece']:.4f}, \"\n",
    "          f\"Scaled Test Accuracy: {metrics['scaled_test_accuracy']:.2f}%\")\n",
    "    print(f\"Class-wise Accuracy: Mean {metrics['class_acc_mean']:.2f}, \"\n",
    "          f\"Std {metrics['class_acc_std']:.2f}\")\n",
    "    print(f\"Total training time: {(time.time() - start):.2f} seconds\")\n",
    "    \n",
    "    torch.save(model.state_dict(), config['paths']['final_model'])\n",
    "\n",
    "if __name__ == \"__main__\":\n",
    "    main()"
   ]
  },
  {
   "cell_type": "code",
   "execution_count": null,
   "id": "e8fc6174-b261-4822-8364-421f634e4427",
   "metadata": {},
   "outputs": [],
   "source": []
  }
 ],
 "metadata": {
  "kernelspec": {
   "display_name": "Python 3 (ipykernel)",
   "language": "python",
   "name": "python3"
  },
  "language_info": {
   "codemirror_mode": {
    "name": "ipython",
    "version": 3
   },
   "file_extension": ".py",
   "mimetype": "text/x-python",
   "name": "python",
   "nbconvert_exporter": "python",
   "pygments_lexer": "ipython3",
   "version": "3.10.16"
  }
 },
 "nbformat": 4,
 "nbformat_minor": 5
}
